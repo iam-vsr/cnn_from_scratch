{
  "nbformat": 4,
  "nbformat_minor": 0,
  "metadata": {
    "colab": {
      "provenance": [],
      "gpuType": "T4",
      "authorship_tag": "ABX9TyNqzSAqPY36BaI8x+eZ6mYp",
      "include_colab_link": true
    },
    "kernelspec": {
      "name": "python3",
      "display_name": "Python 3"
    },
    "language_info": {
      "name": "python"
    },
    "accelerator": "GPU"
  },
  "cells": [
    {
      "cell_type": "markdown",
      "metadata": {
        "id": "view-in-github",
        "colab_type": "text"
      },
      "source": [
        "<a href=\"https://colab.research.google.com/github/iam-vsr/cnn_from_scratch/blob/main/cnn_from_scratch.ipynb\" target=\"_parent\"><img src=\"https://colab.research.google.com/assets/colab-badge.svg\" alt=\"Open In Colab\"/></a>"
      ]
    },
    {
      "cell_type": "markdown",
      "source": [
        "# **📦 Importing Libraries**\n",
        "\n",
        "Using NumPy for array operations, Matplotlib for visualization, and Keras to load the MNIST dataset."
      ],
      "metadata": {
        "id": "MQzXJO1Yt6PJ"
      }
    },
    {
      "cell_type": "code",
      "execution_count": 3,
      "metadata": {
        "id": "8w5A0DW1cqBV"
      },
      "outputs": [],
      "source": [
        "import numpy as np\n",
        "import pandas as pd\n",
        "from keras.datasets import mnist\n",
        "from matplotlib import pyplot as plt"
      ]
    },
    {
      "cell_type": "markdown",
      "source": [
        "# **📊 Loading and Preprocessing MNIST**\n",
        "\n",
        "Loaded the MNIST dataset and reshaped images to `(1, 28, 28)` for channel-first format. Pixel values are normalized to [0, 1].\n"
      ],
      "metadata": {
        "id": "FWB9Yd5qu0U-"
      }
    },
    {
      "cell_type": "code",
      "source": [
        "(X_train, y_train), (X_test, y_test) = mnist.load_data()\n",
        "X_train = X_train.reshape(-1,1,28,28)/255.0\n",
        "X_test = X_test.reshape(-1,1,28,28)/255.0\n",
        "(X_train.shape,X_test.shape)"
      ],
      "metadata": {
        "colab": {
          "base_uri": "https://localhost:8080/"
        },
        "id": "3oePlYXjfebA",
        "outputId": "2c0f9fce-e731-4279-a68e-2e9c30669239"
      },
      "execution_count": 4,
      "outputs": [
        {
          "output_type": "stream",
          "name": "stdout",
          "text": [
            "Downloading data from https://storage.googleapis.com/tensorflow/tf-keras-datasets/mnist.npz\n",
            "\u001b[1m11490434/11490434\u001b[0m \u001b[32m━━━━━━━━━━━━━━━━━━━━\u001b[0m\u001b[37m\u001b[0m \u001b[1m2s\u001b[0m 0us/step\n"
          ]
        },
        {
          "output_type": "execute_result",
          "data": {
            "text/plain": [
              "((60000, 1, 28, 28), (10000, 1, 28, 28))"
            ]
          },
          "metadata": {},
          "execution_count": 4
        }
      ]
    },
    {
      "cell_type": "markdown",
      "source": [
        "**🎯 One-Hot Encoding Labels**\n",
        "\n",
        "Converted integer labels into one-hot encoded vectors for multi-class classification (digits 0–9)."
      ],
      "metadata": {
        "id": "qMeDcW5WvTnl"
      }
    },
    {
      "cell_type": "code",
      "source": [
        "y_train_oh = np.zeros((y_train.shape[0], 10))\n",
        "y_train_oh[np.arange(y_train.shape[0]), y_train] = 1\n",
        "y_test_oh = np.zeros((y_test.shape[0], 10))\n",
        "y_test_oh[np.arange(y_test.shape[0]), y_test] = 1\n",
        "(y_train_oh.shape,y_test_oh.shape)"
      ],
      "metadata": {
        "colab": {
          "base_uri": "https://localhost:8080/"
        },
        "id": "kiQ4-q4chXbP",
        "outputId": "4a27dc47-f9b0-45d6-f622-5931424bba6f"
      },
      "execution_count": 5,
      "outputs": [
        {
          "output_type": "execute_result",
          "data": {
            "text/plain": [
              "((60000, 10), (10000, 10))"
            ]
          },
          "metadata": {},
          "execution_count": 5
        }
      ]
    },
    {
      "cell_type": "markdown",
      "source": [
        "# **Defining Functions**"
      ],
      "metadata": {
        "id": "I6XtPxiIwNuU"
      }
    },
    {
      "cell_type": "markdown",
      "source": [
        "### 🧱 **Convolution Layer**\n",
        "\n",
        "Applies a 2D convolution operation using the given filters `W` and biases `b` over the input `X`.  \n",
        "Supports optional `stride` and `padding`. Output shape is computed manually, and each region is convolved using nested loops."
      ],
      "metadata": {
        "id": "_7zbbw8SwUl0"
      }
    },
    {
      "cell_type": "code",
      "source": [
        "def convolve(X, W, b, stride=1, padding=0):\n",
        "    n_filters, d_filter, h_filter, w_filter = W.shape\n",
        "    n_x, d_x, h_x, w_x = X.shape\n",
        "\n",
        "    h_out = (h_x - h_filter + 2 * padding) // stride + 1\n",
        "    w_out = (w_x - w_filter + 2 * padding) // stride + 1\n",
        "    out = np.zeros((n_x, n_filters, h_out, w_out))\n",
        "\n",
        "    if padding > 0:\n",
        "        X_padded = np.pad(X, ((0,0), (0,0), (padding, padding), (padding, padding)), mode='constant')\n",
        "    else:\n",
        "        X_padded = X\n",
        "\n",
        "    for i in range(n_x):\n",
        "        for f in range(n_filters):\n",
        "            for h in range(h_out):\n",
        "                for w in range(w_out):\n",
        "                    h_start = h * stride\n",
        "                    h_end = h_start + h_filter\n",
        "                    w_start = w * stride\n",
        "                    w_end = w_start + w_filter\n",
        "                    region = X_padded[i, :, h_start:h_end, w_start:w_end]\n",
        "                    out[i, f, h, w] = np.sum(region * W[f]) + b[f]\n",
        "    return out"
      ],
      "metadata": {
        "id": "8ud-XPNfDuNR"
      },
      "execution_count": 6,
      "outputs": []
    },
    {
      "cell_type": "markdown",
      "source": [
        "### **⚡ ReLU Activation**\n",
        "\n",
        "Applies the ReLU (Rectified Linear Unit) activation function element-wise: replaces negative values with zero."
      ],
      "metadata": {
        "id": "mWC9JhBEwhzx"
      }
    },
    {
      "cell_type": "code",
      "source": [
        "def relu(X):\n",
        "  return np.maximum(0,X)"
      ],
      "metadata": {
        "id": "Q6qmAjF8mMhl"
      },
      "execution_count": 7,
      "outputs": []
    },
    {
      "cell_type": "markdown",
      "source": [
        "### 🧠 **Softmax Activation**\n",
        "\n",
        "Converts raw output scores into probabilities by applying the softmax function across each sample’s output vector."
      ],
      "metadata": {
        "id": "RCn32_cowqd3"
      }
    },
    {
      "cell_type": "code",
      "source": [
        "def softmax(X):\n",
        "    exps = np.exp(X - np.max(X, axis=1, keepdims=True))\n",
        "    return exps / np.sum(exps, axis=1, keepdims=True)"
      ],
      "metadata": {
        "id": "fHj9TpagsoHY"
      },
      "execution_count": 8,
      "outputs": []
    },
    {
      "cell_type": "markdown",
      "source": [
        "### **🔻 Max Pooling**\n",
        "\n",
        "Performs 2×2 max pooling to downsample feature maps by taking the maximum value in each non-overlapping region."
      ],
      "metadata": {
        "id": "DEhurS95wxt3"
      }
    },
    {
      "cell_type": "code",
      "source": [
        "def max_pool(X, size=2, stride=2):\n",
        "    n, d, h, w = X.shape\n",
        "    h_out = h // size\n",
        "    w_out = w // size\n",
        "    out = np.zeros((n, d, h_out, w_out))\n",
        "\n",
        "    for i in range(n):\n",
        "        for c in range(d):\n",
        "            for h1 in range(h_out):\n",
        "                for w1 in range(w_out):\n",
        "                    h_start = h1 * stride\n",
        "                    w_start = w1 * stride\n",
        "                    h_end = h_start + size\n",
        "                    w_end = w_start + size\n",
        "                    out[i, c, h1, w1] = np.max(X[i, c, h_start:h_end, w_start:w_end])\n",
        "    return out"
      ],
      "metadata": {
        "id": "tU8vX_FAE17A"
      },
      "execution_count": 9,
      "outputs": []
    },
    {
      "cell_type": "markdown",
      "source": [
        "### 🧾 **Flattening**\n",
        "\n",
        "Reshapes the pooled feature maps into 2D arrays to feed into the fully connected (dense) layer."
      ],
      "metadata": {
        "id": "XvUTi4m1w6tj"
      }
    },
    {
      "cell_type": "code",
      "source": [
        "def flatten(X):\n",
        "  return X.reshape(X.shape[0],-1)"
      ],
      "metadata": {
        "id": "hRZO3GkOnyM_"
      },
      "execution_count": 10,
      "outputs": []
    },
    {
      "cell_type": "markdown",
      "source": [
        "### 🔗 **Dense Layer**\n",
        "\n",
        "Applies a fully connected layer: performs matrix multiplication with weights `W` and adds bias `b`."
      ],
      "metadata": {
        "id": "zkhVLEyixBNp"
      }
    },
    {
      "cell_type": "code",
      "source": [
        "def dense(X,W,b):\n",
        "  return np.dot(X,W)+b"
      ],
      "metadata": {
        "id": "5d4ahE0boeKt"
      },
      "execution_count": 11,
      "outputs": []
    },
    {
      "cell_type": "markdown",
      "source": [
        "### ✅ **Predictions & Accuracy**\n",
        "\n",
        "- `get_predictions`: Returns the predicted class by taking the index of the max probability.\n",
        "- `accuracy`: Compares predictions with true labels and returns the overall classification accuracy."
      ],
      "metadata": {
        "id": "hGD1zJA1xMC-"
      }
    },
    {
      "cell_type": "code",
      "source": [
        "def get_predictions(A2):\n",
        "  return np.argmax(A2, axis=1)\n",
        "\n",
        "def accuracy(predictions, y):\n",
        "  return np.mean(predictions == np.argmax(y, axis=1))"
      ],
      "metadata": {
        "id": "l2CUPQg1o8DQ"
      },
      "execution_count": 12,
      "outputs": []
    },
    {
      "cell_type": "markdown",
      "source": [
        "### 🔄 **CNN Forward Pass Overview**\n",
        "\n",
        "```text\n",
        "Input (1×28×28)\n",
        "      │\n",
        "      ▼\n",
        "[Conv2D: 4 filters, 3×3] ──► Z1 (4×26×26)\n",
        "      │\n",
        "      ▼\n",
        "[ReLU Activation] ─────────► A1 (4×26×26)\n",
        "      │\n",
        "      ▼\n",
        "[Max Pooling: 2×2] ────────► P1 (4×13×13)\n",
        "      │\n",
        "      ▼\n",
        "[Flatten] ─────────────────► F (676,)\n",
        "      │\n",
        "      ▼\n",
        "[Dense Layer → W2, b2] ────► Z2 (10,)\n",
        "      │\n",
        "      ▼\n",
        "[Softmax] ─────────────────► A2 (10,) ← Predicted probabilities\n",
        "```\n"
      ],
      "metadata": {
        "id": "1QcEjMfExQLu"
      }
    },
    {
      "cell_type": "code",
      "source": [
        "def forward(W1, b1, W2, b2, X):\n",
        "    Z1 = convolve(X, W1, b1)   # (N, 4, 26, 26)\n",
        "    A1 = relu(Z1)              # (N, 4, 26, 26)\n",
        "    P1 = max_pool(A1)          # (N, 4, 13, 13)\n",
        "    F = flatten(P1)            # (N, 676)\n",
        "    Z2 = dense(F, W2, b2)      # (N, 10)\n",
        "    A2 = softmax(Z2)           # (N, 10)\n",
        "\n",
        "    return Z1, A1, P1, F, Z2, A2"
      ],
      "metadata": {
        "id": "lmnmXye9tqzn"
      },
      "execution_count": 13,
      "outputs": []
    },
    {
      "cell_type": "markdown",
      "source": [
        "The Architecture is-\n",
        "\n",
        "| Layer     | Output Shape      |\n",
        "| --------- | ----------------- |\n",
        "| Input     | `(N, 1, 28, 28)` |\n",
        "| Conv      | `(N, 4, 26, 26)` |\n",
        "| ReLU      | `(N, 4, 26, 26)` |\n",
        "| MaxPool2D | `(N, 4, 13, 13)` |\n",
        "| Flatten   | `(N, 676)`       |\n",
        "| Dense     | `(N, 10)`        |\n",
        "| Softmax   | `(N, 10)`        |\n"
      ],
      "metadata": {
        "id": "ZMAHxJYsJCjO"
      }
    },
    {
      "cell_type": "markdown",
      "source": [
        "### **📉 Cross-Entropy Loss**\n",
        "\n",
        "Calculates the average cross-entropy loss between predicted probabilities and one-hot encoded true labels.  \n",
        "Uses `epsilon` to avoid log(0) for numerical stability."
      ],
      "metadata": {
        "id": "ThQvzM2-yJqC"
      }
    },
    {
      "cell_type": "code",
      "source": [
        "def cross_entropy_loss(preds, labels):\n",
        "    # preds: (batch_size, num_classes), probs after softmax\n",
        "    # labels: one-hot, shape = (batch_size, num_classes)\n",
        "    epsilon = 1e-12\n",
        "    preds = np.clip(preds, epsilon, 1. - epsilon)\n",
        "    return -np.mean(np.sum(labels * np.log(preds), axis=1))"
      ],
      "metadata": {
        "id": "2qaFURQTGp0n"
      },
      "execution_count": 17,
      "outputs": []
    },
    {
      "cell_type": "markdown",
      "source": [
        "Loss → ∂L/∂A2 → ∂L/∂Z2 → ∂L/∂W2, ∂L/∂b2 → ∂L/∂F → ∂L/∂P1 → ∂L/∂A1 → ∂L/∂Z1 → ∂L/∂W1, ∂L/∂b1\n"
      ],
      "metadata": {
        "id": "M3NgA3KIJsa0"
      }
    },
    {
      "cell_type": "markdown",
      "source": [
        "### **🔙 Gradient of Softmax + Cross-Entropy**\n",
        "\n",
        "Computes the gradient of the loss with respect to the softmax output.  \n",
        "Efficient due to the combined derivative of softmax and cross-entropy."
      ],
      "metadata": {
        "id": "EeBT1zpmyPNW"
      }
    },
    {
      "cell_type": "code",
      "source": [
        "def grad_softmax_cross_entropy(preds, labels):\n",
        "    return (preds - labels) / preds.shape[0]"
      ],
      "metadata": {
        "id": "mMYBLkhMJfHQ"
      },
      "execution_count": 19,
      "outputs": []
    },
    {
      "cell_type": "markdown",
      "source": [
        "### 🔁** Dense Layer Backward Pass**\n",
        "\n",
        "Calculates gradients for:\n",
        "- `dW`: weights,\n",
        "- `db`: biases,\n",
        "- `dA_prev`: activations from the previous layer  \n",
        "using the chain rule and matrix multiplication.\n"
      ],
      "metadata": {
        "id": "Yk4Hm31PyfJB"
      }
    },
    {
      "cell_type": "code",
      "source": [
        "def grad_dense(dZ, A_prev, W):\n",
        "    dW = np.dot(A_prev.T, dZ)\n",
        "    db = np.sum(dZ, axis=0)\n",
        "    dA_prev = np.dot(dZ, W.T)\n",
        "    return dA_prev, dW, db"
      ],
      "metadata": {
        "id": "Z90C6tgoKPxF"
      },
      "execution_count": 20,
      "outputs": []
    },
    {
      "cell_type": "markdown",
      "source": [
        "### 🔄 **Gradient of Flatten**\n",
        "\n",
        "Reshapes the gradient from the dense layer back to the original pooled feature map shape for further backpropagation.\n"
      ],
      "metadata": {
        "id": "Vp6-zFfzymEu"
      }
    },
    {
      "cell_type": "code",
      "source": [
        "def grad_flatten(dF, original_shape):\n",
        "    return dF.reshape(original_shape)"
      ],
      "metadata": {
        "id": "g9LfRSCFKT4J"
      },
      "execution_count": 21,
      "outputs": []
    },
    {
      "cell_type": "markdown",
      "source": [
        "### **🔁 Max Pooling Backward Pass**\n",
        "\n",
        "Backpropagates gradients through the max pooling layer by assigning the gradient only to the position of the max value in each region.\n"
      ],
      "metadata": {
        "id": "D_bU9WM0ysId"
      }
    },
    {
      "cell_type": "code",
      "source": [
        "def grad_maxpool(dout, A_prev, size=2, stride=2):\n",
        "    N, C, H, W = A_prev.shape\n",
        "    dA = np.zeros_like(A_prev)\n",
        "\n",
        "    for n in range(N):\n",
        "        for c in range(C):\n",
        "            for h in range(0, H, size):\n",
        "                for w in range(0, W, size):\n",
        "                    h_end = h + size\n",
        "                    w_end = w + size\n",
        "                    region = A_prev[n, c, h:h_end, w:w_end]\n",
        "                    max_pos = np.unravel_index(np.argmax(region), region.shape)\n",
        "                    dA[n, c, h + max_pos[0], w + max_pos[1]] += dout[n, c, h//2, w//2]\n",
        "    return dA"
      ],
      "metadata": {
        "id": "NTxsvxY7KZT1"
      },
      "execution_count": 22,
      "outputs": []
    },
    {
      "cell_type": "markdown",
      "source": [
        "### 🔙 **ReLU Backward Pass**\n",
        "\n",
        "Computes the gradient through the ReLU activation by passing gradients only where the original input `Z` was positive.\n"
      ],
      "metadata": {
        "id": "4FwBMeRAyzIQ"
      }
    },
    {
      "cell_type": "code",
      "source": [
        "def grad_relu(dA, Z):\n",
        "    return dA * (Z > 0)"
      ],
      "metadata": {
        "id": "6fy9qhnuKeOY"
      },
      "execution_count": 23,
      "outputs": []
    },
    {
      "cell_type": "markdown",
      "source": [
        "### **🔁 Convolution Layer Backward Pass**\n",
        "\n",
        "Backpropagates through the convolution layer by computing:\n",
        "- `dW`: gradient w.r.t. filters  \n",
        "- `db`: gradient w.r.t. biases  \n",
        "- `dX`: gradient w.r.t. input (for previous layer)\n",
        "\n",
        "Handles optional padding and uses nested loops for spatial gradient distribution.\n"
      ],
      "metadata": {
        "id": "UiZ5ObD7y83q"
      }
    },
    {
      "cell_type": "code",
      "source": [
        "def grad_conv(dZ, X, W, stride=1, padding=0):\n",
        "    n_filters, d_filter, h_filter, w_filter = W.shape\n",
        "    n_x, d_x, h_x, w_x = X.shape\n",
        "    dX = np.zeros_like(X)\n",
        "    dW = np.zeros_like(W)\n",
        "    db = np.zeros((n_filters,))\n",
        "\n",
        "    if padding > 0:\n",
        "        X_padded = np.pad(X, ((0,0), (0,0), (padding,padding), (padding,padding)), mode='constant')\n",
        "        dX_padded = np.pad(dX, ((0,0), (0,0), (padding,padding), (padding,padding)), mode='constant')\n",
        "    else:\n",
        "        X_padded = X\n",
        "        dX_padded = dX\n",
        "\n",
        "    for i in range(n_x):\n",
        "        for f in range(n_filters):\n",
        "            for h in range(dZ.shape[2]):\n",
        "                for w in range(dZ.shape[3]):\n",
        "                    h_start = h * stride\n",
        "                    h_end = h_start + h_filter\n",
        "                    w_start = w * stride\n",
        "                    w_end = w_start + w_filter\n",
        "\n",
        "                    region = X_padded[i, :, h_start:h_end, w_start:w_end]\n",
        "                    dW[f] += dZ[i, f, h, w] * region\n",
        "                    db[f] += dZ[i, f, h, w]\n",
        "                    dX_padded[i, :, h_start:h_end, w_start:w_end] += dZ[i, f, h, w] * W[f]\n",
        "\n",
        "    if padding > 0:\n",
        "        dX = dX_padded[:, :, padding:-padding, padding:-padding]\n",
        "    else:\n",
        "        dX = dX_padded\n",
        "    return dX, dW, db"
      ],
      "metadata": {
        "id": "qyDKmxacKni3"
      },
      "execution_count": 24,
      "outputs": []
    },
    {
      "cell_type": "markdown",
      "source": [
        "### 🔙 **Backward Pass**\n",
        "\n",
        "Chains all layer-wise gradients in reverse order:\n",
        "1. Output layer → Dense → Flatten  \n",
        "2. Max Pooling → ReLU → Convolution\n",
        "\n",
        "Returns gradients of all learnable parameters: `dW1`, `db1`, `dW2`, `db2`.\n"
      ],
      "metadata": {
        "id": "4Mjcl_CLzTBS"
      }
    },
    {
      "cell_type": "code",
      "source": [
        "def backward(A1, W1, Z1, P1, F, A2, W2, Z2, X, y):\n",
        "    dZ2 = grad_softmax_cross_entropy(A2, y)\n",
        "    dF, dW2, db2 = grad_dense(dZ2, F, W2)\n",
        "    dP1 = grad_flatten(dF, P1.shape)\n",
        "    dA1 = grad_maxpool(dP1, A1)\n",
        "    dZ1 = grad_relu(dA1, Z1)\n",
        "    dX, dW1, db1 = grad_conv(dZ1, X, W1)\n",
        "    return dW1, db1, dW2, db2"
      ],
      "metadata": {
        "id": "3qptvMx7Ksaa"
      },
      "execution_count": 25,
      "outputs": []
    },
    {
      "cell_type": "markdown",
      "source": [
        "CNN Backward Pass Overview\n",
        "\n",
        "```text\n",
        "Loss (Cross Entropy)\n",
        "        ▲\n",
        "        │\n",
        "[Softmax Output Layer]\n",
        "        ▲\n",
        "        │ dZ2\n",
        "        │\n",
        "[Dense Layer: W2, b2]\n",
        "        ▲\n",
        "        │ dF\n",
        "        │\n",
        "[Unflatten]\n",
        "        ▲\n",
        "        │ dP1\n",
        "        │\n",
        "[Max Pooling Backward]\n",
        "        ▲\n",
        "        │ dA1\n",
        "        │\n",
        "[ReLU Backward]\n",
        "        ▲\n",
        "        │ dZ1\n",
        "        │\n",
        "[Convolution Backward: W1, b1]\n",
        "        ▲\n",
        "        │ dX\n",
        "        │\n",
        "     Input X\n",
        "```\n"
      ],
      "metadata": {
        "id": "pqUu611qzZxW"
      }
    },
    {
      "cell_type": "markdown",
      "source": [
        "### 🔧 **Weight Initialization**\n",
        "\n",
        "Initializes learnable parameters:\n",
        "- `W1`, `b1`: for the convolutional layer (4 filters, 3×3)\n",
        "- `W2`, `b2`: for the dense layer (676 inputs → 10 outputs)\n",
        "\n",
        "Uses He initialization for better convergence with ReLU.\n"
      ],
      "metadata": {
        "id": "EAfFtPEfzuYg"
      }
    },
    {
      "cell_type": "code",
      "source": [
        "def init_weights():\n",
        "    W1 = np.random.randn(4, 1, 3, 3) * np.sqrt(2. / 9)\n",
        "    b1 = np.zeros(4)  # 4 filters → 1 bias each\n",
        "\n",
        "    W2 = np.random.randn(676, 10) * np.sqrt(2. / 676)\n",
        "    b2 = np.zeros(10)  # 10 output classes\n",
        "\n",
        "    return W1, b1, W2, b2"
      ],
      "metadata": {
        "id": "b9pB5T-ncZ8D"
      },
      "execution_count": 26,
      "outputs": []
    },
    {
      "cell_type": "markdown",
      "source": [
        "### **🛠️ Parameter Update**\n",
        "\n",
        "Applies gradient descent to update all learnable parameters using their respective gradients and the learning rate.\n"
      ],
      "metadata": {
        "id": "LHpT7Q0Oz1KE"
      }
    },
    {
      "cell_type": "code",
      "source": [
        "def update_weights(W1, b1, W2, b2, dW1, db1, dW2, db2, lr):\n",
        "    W1 -= lr * dW1\n",
        "    b1 -= lr * db1\n",
        "    W2 -= lr * dW2\n",
        "    b2 -= lr * db2\n",
        "    return W1, b1, W2, b2"
      ],
      "metadata": {
        "id": "Ud-fEIEDcvZm"
      },
      "execution_count": 27,
      "outputs": []
    },
    {
      "cell_type": "markdown",
      "source": [
        "# **🏋️ Training Loop**\n",
        "\n",
        "Runs forward and backward passes for each epoch, updates parameters, and prints accuracy.  \n",
        "This forms the core training routine for the CNN.\n"
      ],
      "metadata": {
        "id": "3v9XYfqOz8wp"
      }
    },
    {
      "cell_type": "code",
      "source": [
        "def train(X, y, epochs, lr):\n",
        "    W1, b1, W2, b2 = init_weights()\n",
        "\n",
        "    for epoch in range(epochs):\n",
        "        Z1, A1, P1, F, Z2, A2 = forward(W1, b1, W2, b2, X)\n",
        "        dW1, db1, dW2, db2 = backward(A1, W1, Z1, P1, F, A2, W2, Z2, X, y)\n",
        "        W1, b1, W2, b2 = update_weights(W1, b1, W2, b2, dW1, db1, dW2, db2, lr)\n",
        "\n",
        "        if epoch % 1 == 0:\n",
        "            acc = accuracy(get_predictions(A2), y)\n",
        "            print(f\"Epoch {epoch+1}/{epochs} - Accuracy: {acc:.4f}\")\n",
        "    return W1, b1, W2, b2"
      ],
      "metadata": {
        "id": "IFW3VfexKwij"
      },
      "execution_count": 28,
      "outputs": []
    },
    {
      "cell_type": "code",
      "source": [
        "W1, b1, W2, b2 = train(X_train[:1000], y_train_oh[:1000], 50, lr=0.1)"
      ],
      "metadata": {
        "colab": {
          "base_uri": "https://localhost:8080/"
        },
        "id": "g_E-TPa6MwJp",
        "outputId": "1f008bf3-c480-4b81-84d3-04a32e340bf7"
      },
      "execution_count": 29,
      "outputs": [
        {
          "output_type": "stream",
          "name": "stdout",
          "text": [
            "Epoch 1/50 - Accuracy: 0.1420\n",
            "Epoch 2/50 - Accuracy: 0.2560\n",
            "Epoch 3/50 - Accuracy: 0.3610\n",
            "Epoch 4/50 - Accuracy: 0.4730\n",
            "Epoch 5/50 - Accuracy: 0.5680\n",
            "Epoch 6/50 - Accuracy: 0.6320\n",
            "Epoch 7/50 - Accuracy: 0.6810\n",
            "Epoch 8/50 - Accuracy: 0.7120\n",
            "Epoch 9/50 - Accuracy: 0.7310\n",
            "Epoch 10/50 - Accuracy: 0.7570\n",
            "Epoch 11/50 - Accuracy: 0.7750\n",
            "Epoch 12/50 - Accuracy: 0.7840\n",
            "Epoch 13/50 - Accuracy: 0.7950\n",
            "Epoch 14/50 - Accuracy: 0.8080\n",
            "Epoch 15/50 - Accuracy: 0.8190\n",
            "Epoch 16/50 - Accuracy: 0.8230\n",
            "Epoch 17/50 - Accuracy: 0.8290\n",
            "Epoch 18/50 - Accuracy: 0.8350\n",
            "Epoch 19/50 - Accuracy: 0.8480\n",
            "Epoch 20/50 - Accuracy: 0.8480\n",
            "Epoch 21/50 - Accuracy: 0.8560\n",
            "Epoch 22/50 - Accuracy: 0.8590\n",
            "Epoch 23/50 - Accuracy: 0.8600\n",
            "Epoch 24/50 - Accuracy: 0.8610\n",
            "Epoch 25/50 - Accuracy: 0.8610\n",
            "Epoch 26/50 - Accuracy: 0.8640\n",
            "Epoch 27/50 - Accuracy: 0.8670\n",
            "Epoch 28/50 - Accuracy: 0.8700\n",
            "Epoch 29/50 - Accuracy: 0.8740\n",
            "Epoch 30/50 - Accuracy: 0.8740\n",
            "Epoch 31/50 - Accuracy: 0.8860\n",
            "Epoch 32/50 - Accuracy: 0.8790\n",
            "Epoch 33/50 - Accuracy: 0.8900\n",
            "Epoch 34/50 - Accuracy: 0.8810\n",
            "Epoch 35/50 - Accuracy: 0.8910\n",
            "Epoch 36/50 - Accuracy: 0.8800\n",
            "Epoch 37/50 - Accuracy: 0.8910\n",
            "Epoch 38/50 - Accuracy: 0.8790\n",
            "Epoch 39/50 - Accuracy: 0.8920\n",
            "Epoch 40/50 - Accuracy: 0.8800\n",
            "Epoch 41/50 - Accuracy: 0.8940\n",
            "Epoch 42/50 - Accuracy: 0.8820\n",
            "Epoch 43/50 - Accuracy: 0.8910\n",
            "Epoch 44/50 - Accuracy: 0.8810\n",
            "Epoch 45/50 - Accuracy: 0.8910\n",
            "Epoch 46/50 - Accuracy: 0.8800\n",
            "Epoch 47/50 - Accuracy: 0.8900\n",
            "Epoch 48/50 - Accuracy: 0.8800\n",
            "Epoch 49/50 - Accuracy: 0.8900\n",
            "Epoch 50/50 - Accuracy: 0.8800\n"
          ]
        }
      ]
    },
    {
      "cell_type": "markdown",
      "source": [
        "# **🔮 Making Predictions**\n",
        "\n",
        "Performs a forward pass and returns the predicted class labels using `argmax` on the output probabilities.\n"
      ],
      "metadata": {
        "id": "842dKA5R0I3Q"
      }
    },
    {
      "cell_type": "code",
      "source": [
        "def make_predictions(X, W1, b1, W2, b2):\n",
        "    _, _, _, _, _, A2 = forward(W1, b1, W2, b2, X)\n",
        "    return get_predictions(A2)"
      ],
      "metadata": {
        "id": "oJDyptGfT9dq"
      },
      "execution_count": 30,
      "outputs": []
    },
    {
      "cell_type": "markdown",
      "source": [
        "### **🧪 Testing the Model**\n",
        "\n",
        "Generates predictions on test data and evaluates performance using accuracy on the first 1000 test samples."
      ],
      "metadata": {
        "id": "R3beaHer0TEO"
      }
    },
    {
      "cell_type": "code",
      "source": [
        "test_predictions = make_predictions(X_test[:1000], W1, b1, W2, b2)\n",
        "print(\"Test accuracy: \",accuracy(test_predictions, y_test_oh[:1000]))"
      ],
      "metadata": {
        "colab": {
          "base_uri": "https://localhost:8080/"
        },
        "id": "eB2VNnOJg4iQ",
        "outputId": "6b1878a7-df3c-474a-ccae-1b6e15e25649"
      },
      "execution_count": 31,
      "outputs": [
        {
          "output_type": "stream",
          "name": "stdout",
          "text": [
            "Test accuracy:  0.812\n"
          ]
        }
      ]
    },
    {
      "cell_type": "markdown",
      "source": [
        "### **🖼️ Visualizing Predictions**\n",
        "\n",
        "Displays a few test images along with predicted and true labels.  \n",
        "Correct predictions are shown in green; incorrect ones in red.\n"
      ],
      "metadata": {
        "id": "PGuvvYAi0aUS"
      }
    },
    {
      "cell_type": "code",
      "source": [
        "def show_sample_predictions(X, y_true, y_pred, count=10):\n",
        "    plt.figure(figsize=(15, 4))\n",
        "    for i in range(count):\n",
        "        plt.subplot(1, count, i + 1)\n",
        "        plt.imshow(X[i].reshape(28, 28), cmap='gray')\n",
        "        true_label = y_true[i] if isinstance(y_true[i], int) else np.argmax(y_true[i])\n",
        "        pred_label = y_pred[i]\n",
        "        plt.title(f\"Pred: {pred_label}\\nTrue: {true_label}\",\n",
        "                  color='green' if pred_label == true_label else 'red')\n",
        "        plt.axis('off')\n",
        "    plt.suptitle(\"Sample Predictions\", fontsize=14)\n",
        "    plt.tight_layout()\n",
        "    plt.show()\n",
        "\n",
        "preds = make_predictions(X_test[:10], W1, b1, W2, b2)\n",
        "show_sample_predictions(X_test[:10], y_test_oh[:10], preds)"
      ],
      "metadata": {
        "colab": {
          "base_uri": "https://localhost:8080/",
          "height": 297
        },
        "id": "xWBF-O7ngr9n",
        "outputId": "d49475f5-d3fe-4dae-f745-98cfca47bd9f"
      },
      "execution_count": 32,
      "outputs": [
        {
          "output_type": "display_data",
          "data": {
            "text/plain": [
              "<Figure size 1500x400 with 10 Axes>"
            ],
            "image/png": "[encoded data removed]"
          },
          "metadata": {}
        }
      ]
    },
    {
      "cell_type": "markdown",
      "source": [
        "# ***✅ Conclusion***\n",
        "\n",
        "We successfully built a simple Convolutional Neural Network (CNN) **from scratch using only NumPy** — no deep learning frameworks involved!\n",
        "\n",
        "- 📈 **Final Test Accuracy**: **81.2%** on a subset of the MNIST test set  \n",
        "- 🧠 Learned key components: convolution, activation, pooling, dense layers, and backpropagation  \n",
        "- 🔁 Implemented full training and evaluation loops manually\n",
        "\n",
        "#### ⚠️ Challenges & Limitations:\n",
        "- Training was **very slow** due to Python-level loops in convolution and pooling — no GPU acceleration\n",
        "- To keep computation reasonable, we used only:\n",
        "  - **1000 samples for training**\n",
        "  - **1000 samples for testing**\n",
        "- Using the full 60,000+ samples would take hours without vectorization or GPU support\n",
        "\n",
        "> 🧪 This project gave hands-on intuition about how CNNs actually work under the hood, building a strong foundation before using high-level frameworks like PyTorch or TensorFlow.\n"
      ],
      "metadata": {
        "id": "h4tpQUZG1LU3"
      }
    }
  ]
}